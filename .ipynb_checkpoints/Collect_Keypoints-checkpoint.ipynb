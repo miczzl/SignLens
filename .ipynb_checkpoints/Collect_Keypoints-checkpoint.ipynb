{
 "cells": [
  {
   "cell_type": "markdown",
   "metadata": {},
   "source": [
    "# pip install"
   ]
  },
  {
   "cell_type": "code",
   "execution_count": 1,
   "metadata": {},
   "outputs": [],
   "source": [
    "# 第一次開的時候先跑這行，然後把它註解掉，之後不用再動到他了\n",
    "# !pip install opencv-python mediapipe matplotlib"
   ]
  },
  {
   "cell_type": "markdown",
   "metadata": {},
   "source": [
    "# Import Packages"
   ]
  },
  {
   "cell_type": "code",
   "execution_count": 2,
   "metadata": {},
   "outputs": [],
   "source": [
    "import os\n",
    "import cv2\n",
    "import mediapipe as mp\n",
    "import numpy as np\n",
    "from matplotlib import pyplot as plt\n",
    "import time"
   ]
  },
  {
   "cell_type": "markdown",
   "metadata": {},
   "source": [
    "# Functions"
   ]
  },
  {
   "cell_type": "code",
   "execution_count": 4,
   "metadata": {},
   "outputs": [],
   "source": [
    "def mediapipe_detection(image, model):\n",
    "    image = cv2.cvtColor(image, cv2.COLOR_BGR2RGB)\n",
    "    image.flags.writeable = False\n",
    "    results = model.process(image)\n",
    "    image.flags.writeable = True\n",
    "    image = cv2.cvtColor(image, cv2.COLOR_RGB2BGR)\n",
    "    return image, results\n",
    "def draw_styled_landmarks(image, results):\n",
    "    mp_drawing.draw_landmarks(\n",
    "        image, results.face_landmarks, mp_holistic.FACEMESH_TESSELATION, \n",
    "        mp_drawing.DrawingSpec(color=(80,110,10), thickness=1, circle_radius=1), \n",
    "        mp_drawing.DrawingSpec(color=(80,256,121), thickness=1, circle_radius=1)\n",
    "    )\n",
    "    mp_drawing.draw_landmarks(\n",
    "        image, results.pose_landmarks, mp_holistic.POSE_CONNECTIONS,\n",
    "        mp_drawing.DrawingSpec(color=(80,22,10), thickness=2, circle_radius=4), \n",
    "        mp_drawing.DrawingSpec(color=(80,44,121), thickness=2, circle_radius=2)\n",
    "    )\n",
    "    mp_drawing.draw_landmarks(\n",
    "        image, results.left_hand_landmarks, mp_holistic.HAND_CONNECTIONS, \n",
    "        mp_drawing.DrawingSpec(color=(121,22,76), thickness=2, circle_radius=4), \n",
    "        mp_drawing.DrawingSpec(color=(121,44,250), thickness=2, circle_radius=2)\n",
    "    ) \n",
    "    mp_drawing.draw_landmarks(\n",
    "        image, results.right_hand_landmarks, mp_holistic.HAND_CONNECTIONS, \n",
    "        mp_drawing.DrawingSpec(color=(245,117,66), thickness=2, circle_radius=4), \n",
    "        mp_drawing.DrawingSpec(color=(245,66,230), thickness=2, circle_radius=2)\n",
    "    ) \n",
    "# 1662\n",
    "def extract_keypoints(results):\n",
    "    pose = np.array([[res.x, res.y, res.z, res.visibility] for res in results.pose_landmarks.landmark]).flatten() if results.pose_landmarks else np.zeros(33*4)\n",
    "    face = np.array([[res.x, res.y, res.z] for res in results.face_landmarks.landmark]).flatten() if results.face_landmarks else np.zeros(468*3)\n",
    "    lh = np.array([[res.x, res.y, res.z] for res in results.left_hand_landmarks.landmark]).flatten() if results.left_hand_landmarks else np.zeros(21*3)\n",
    "    rh = np.array([[res.x, res.y, res.z] for res in results.right_hand_landmarks.landmark]).flatten() if results.right_hand_landmarks else np.zeros(21*3)\n",
    "    return np.concatenate([pose, face, lh, rh])\n",
    "# 258\n",
    "def extract_keypoints_without_face(results):\n",
    "    pose = np.array([[res.x, res.y, res.z, res.visibility] for res in results.pose_landmarks.landmark]).flatten() if results.pose_landmarks else np.zeros(33*4)\n",
    "    lh = np.array([[res.x, res.y, res.z] for res in results.left_hand_landmarks.landmark]).flatten() if results.left_hand_landmarks else np.zeros(21*3)\n",
    "    rh = np.array([[res.x, res.y, res.z] for res in results.right_hand_landmarks.landmark]).flatten() if results.right_hand_landmarks else np.zeros(21*3)\n",
    "    return np.concatenate([pose, lh, rh])"
   ]
  },
  {
   "cell_type": "code",
   "execution_count": 73,
   "metadata": {},
   "outputs": [],
   "source": [
    "def test():\n",
    "    cap = cv2.VideoCapture(0)\n",
    "    # Set mediapipe model \n",
    "    with mp_holistic.Holistic(min_detection_confidence=0.5, min_tracking_confidence=0.5) as holistic:\n",
    "\n",
    "        # Read feed\n",
    "        while cap.isOpened():\n",
    "            ret, frame = cap.read()\n",
    "            if not ret:\n",
    "                break\n",
    "\n",
    "            # Make detections\n",
    "            image, results = mediapipe_detection(frame, holistic)\n",
    "            # Draw landmarks\n",
    "            draw_styled_landmarks(image, results)\n",
    "        \n",
    "            cv2.putText(image, 'Action, 0', (50, 100), \n",
    "                                   cv2.FONT_HERSHEY_SIMPLEX, 2, (0, 255, 0), 4, cv2.LINE_AA)\n",
    "            cv2.imshow('OpenCV Feed', image)\n",
    "\n",
    "            # Break gracefully\n",
    "            key = cv2.waitKey(1) & 0xFF\n",
    "            if key == ord('q') or key == 6:\n",
    "                break\n",
    "\n",
    "        cap.release()\n",
    "        cv2.destroyAllWindows()\n"
   ]
  },
  {
   "cell_type": "code",
   "execution_count": 89,
   "metadata": {},
   "outputs": [],
   "source": [
    "def collect_keypoints(actions, no_sequences, with_face=False):\n",
    "    \n",
    "    # Open cam\n",
    "    cap = cv2.VideoCapture(0)\n",
    "    \n",
    "    # Set mediapipe model \n",
    "    with mp_holistic.Holistic(min_detection_confidence=0.5, min_tracking_confidence=0.5) as holistic:\n",
    "        \n",
    "        # Pre-proceeding\n",
    "        while True:\n",
    "            \n",
    "            # Image\n",
    "            ret, frame = cap.read()\n",
    "            image, results = mediapipe_detection(frame, holistic)\n",
    "            draw_styled_landmarks(image, results)\n",
    "            \n",
    "            cv2.putText(image, 'PRESS SPACE TO START', (120,200), \n",
    "                       cv2.FONT_HERSHEY_SIMPLEX, 1, (0,255, 0), 4, cv2.LINE_AA)\n",
    "            cv2.imshow('OpenCV Feed', image)\n",
    "            \n",
    "            # Wait logic \n",
    "            key = cv2.waitKey(10) & 0xFF\n",
    "            if key == ord('q') or key == 6:\n",
    "                return\n",
    "            if key == ord(' '):\n",
    "                break\n",
    "        \n",
    "        # Loop through actions\n",
    "        for action in actions:\n",
    "            \n",
    "            # new recorded data\n",
    "            new_folder = {}\n",
    "            new_folder[action] = []\n",
    "            \n",
    "            # create action folder, get dirmax\n",
    "            ACTION_PATH = os.path.join(DATA_PATH, action)\n",
    "            if os.path.exists(ACTION_PATH):\n",
    "                dirlist = os.listdir(ACTION_PATH)\n",
    "                if '.ipynb_checkpoints' in dirlist:\n",
    "                    dirlist.remove('.ipynb_checkpoints')\n",
    "                dirmax = np.max(np.array(dirlist).astype(int))\n",
    "            else:\n",
    "                os.makedirs(ACTION_PATH)\n",
    "                dirmax = -1\n",
    "\n",
    "            # Loop through sequences\n",
    "            for sequence in range(1,no_sequences+1):\n",
    "                \n",
    "                # new recorded data\n",
    "                new_folder[action].append(dirmax+sequence)\n",
    "                \n",
    "                # create sequence folder\n",
    "                try: \n",
    "                    os.makedirs(os.path.join(ACTION_PATH, str(dirmax+sequence)))\n",
    "                except:\n",
    "                    pass\n",
    "\n",
    "                # Collecting data\n",
    "                for frame_num in range(sequence_length):\n",
    "\n",
    "                    # Image\n",
    "                    ret, frame = cap.read()\n",
    "                    image, results = mediapipe_detection(frame, holistic)\n",
    "                    draw_styled_landmarks(image, results)\n",
    "\n",
    "                    # Wait logic\n",
    "                    if frame_num == 0:\n",
    "                        cv2.putText(image, 'STARTING COLLECTION', (120,200), \n",
    "                                   cv2.FONT_HERSHEY_SIMPLEX, 1, (0,255, 0), 4, cv2.LINE_AA)\n",
    "                        cv2.putText(image, f'{action}, {dirmax+sequence}, {frame_num}', (50, 100), \n",
    "                                   cv2.FONT_HERSHEY_SIMPLEX, 2, (0, 255, 0), 4, cv2.LINE_AA)\n",
    "                        cv2.imshow('OpenCV Feed', image)\n",
    "                        \n",
    "                        # Wait 3 secs to start\n",
    "                        key = cv2.waitKey(3000) & 0xFF\n",
    "                        if key == ord('q') or key == 6:\n",
    "                            print(f\"Interrupted, {action} {dirmax+sequence}\")\n",
    "                            return\n",
    "                    else: \n",
    "                        cv2.putText(image, f'{action}, {dirmax+sequence}, {frame_num}', (50, 100), \n",
    "                                   cv2.FONT_HERSHEY_SIMPLEX, 2, (0, 255, 0), 4, cv2.LINE_AA)\n",
    "                        cv2.imshow('OpenCV Feed', image)\n",
    "\n",
    "                    # Export keypoints\n",
    "                    keypoints = None\n",
    "                    if with_face:\n",
    "                        keypoints = extract_keypoints(results)\n",
    "                    else:\n",
    "                        keypoints = extract_keypoints_without_face(results)\n",
    "                    npy_path = os.path.join(ACTION_PATH, str(dirmax+sequence), str(frame_num))\n",
    "                    np.save(npy_path, keypoints)\n",
    "\n",
    "                    # Wait logic\n",
    "                    key = cv2.waitKey(1) & 0xFF\n",
    "                    if key == ord('q') or key == 6:\n",
    "                        print(f\"Interrupted, {action} {dirmax+sequence}\")\n",
    "                        return\n",
    "                    \n",
    "            print(\"Data Collected\")\n",
    "            print(\"-\"*30)\n",
    "            for key, value in new_folder.items():\n",
    "                print(key, *value)\n",
    "\n",
    "    cap.release()\n",
    "    cv2.destroyAllWindows()\n"
   ]
  },
  {
   "cell_type": "markdown",
   "metadata": {},
   "source": [
    "# Main Part"
   ]
  },
  {
   "cell_type": "code",
   "execution_count": 3,
   "metadata": {},
   "outputs": [],
   "source": [
    "mp_holistic = mp.solutions.holistic # Holistic model\n",
    "mp_drawing = mp.solutions.drawing_utils # Drawing utilities"
   ]
  },
  {
   "cell_type": "code",
   "execution_count": 74,
   "metadata": {},
   "outputs": [],
   "source": [
    "# Check if cam available\n",
    "# test()"
   ]
  },
  {
   "cell_type": "code",
   "execution_count": 90,
   "metadata": {},
   "outputs": [],
   "source": [
    "# 不用動\n",
    "DATA_PATH = os.path.join('Data')\n",
    "if not os.path.exists(DATA_PATH):\n",
    "    os.makedirs(DATA_PATH)\n",
    "sequence_length = 30"
   ]
  },
  {
   "cell_type": "markdown",
   "metadata": {},
   "source": [
    "## 要修改的地方\n",
    "\n",
    "1. `actions`: 手語名稱\n",
    "2. `no_sequences`: 錄製次數\n",
    "    \n",
    "## Run Code\n",
    "\n",
    "1. 一開始可以調整姿勢，準備好之後按 `空白鍵` 開始錄製資料\n",
    "2. 每筆資料開始錄製之前會有 `START COLLECTION` 的標示，這時候還沒開始錄製，先把手放到定點，等字消失就開始錄製資料\n",
    "3. 若中途有什麼問題，可以按 `Q` 暫停，刪掉錯誤的資料之後再繼續"
   ]
  },
  {
   "cell_type": "code",
   "execution_count": 88,
   "metadata": {},
   "outputs": [
    {
     "name": "stdout",
     "output_type": "stream",
     "text": [
      "Interrupted, account 44\n",
      "------------------------------\n",
      "New folders created\n",
      "account 44\n"
     ]
    }
   ],
   "source": [
    "# 要修改的地方\n",
    "actions = np.array(['account'])\n",
    "no_sequences = 10\n",
    "# Run Code\n",
    "collect_keypoints(actions, no_sequences)"
   ]
  }
 ],
 "metadata": {
  "kernelspec": {
   "display_name": "Python 3",
   "language": "python",
   "name": "python3"
  },
  "language_info": {
   "codemirror_mode": {
    "name": "ipython",
    "version": 3
   },
   "file_extension": ".py",
   "mimetype": "text/x-python",
   "name": "python",
   "nbconvert_exporter": "python",
   "pygments_lexer": "ipython3",
   "version": "3.8.5"
  }
 },
 "nbformat": 4,
 "nbformat_minor": 4
}
