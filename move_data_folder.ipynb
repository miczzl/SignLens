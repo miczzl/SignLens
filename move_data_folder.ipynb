{
 "cells": [
  {
   "cell_type": "code",
   "execution_count": 1,
   "metadata": {},
   "outputs": [],
   "source": [
    "import os\n",
    "import numpy as np"
   ]
  },
  {
   "cell_type": "code",
   "execution_count": 2,
   "metadata": {},
   "outputs": [],
   "source": [
    "def get_actions(path):\n",
    "    actions = os.listdir(path)\n",
    "    if '.ipynb_checkpoints' in actions: actions.remove('.ipynb_checkpoints')\n",
    "    if '.DS_Store' in actions: actions.remove('.DS_Store')\n",
    "    return actions"
   ]
  },
  {
   "cell_type": "code",
   "execution_count": 3,
   "metadata": {},
   "outputs": [],
   "source": [
    "def get_sequences(path, action):\n",
    "    seqs = os.listdir(os.path.join(path, action))\n",
    "    if '.ipynb_checkpoints' in seqs: seqs.remove('.ipynb_checkpoints')\n",
    "    if '.DS_Store' in seqs: seqs.remove('.DS_Store')\n",
    "    for i in range(len(seqs)):\n",
    "        seqs[i] = int(seqs[i])\n",
    "    return sorted(seqs)"
   ]
  },
  {
   "cell_type": "code",
   "execution_count": 4,
   "metadata": {},
   "outputs": [],
   "source": [
    "def check_actions(new_path, data_path):\n",
    "    new_actions = get_actions(new_path)\n",
    "    data_actions = get_actions(data_path)\n",
    "    \n",
    "    new_diff = list(set(new_actions)-set(data_actions))\n",
    "    data_diff = list(set(data_actions)-set(new_actions))\n",
    "    \n",
    "    if not new_diff and not data_diff: \n",
    "        print(\"actions checked\")\n",
    "        return True\n",
    "    if new_diff: print(f\"多actions: {new_diff}\")\n",
    "    if data_diff: print(f\"缺actions: {data_diff}\")\n",
    "    return False"
   ]
  },
  {
   "cell_type": "code",
   "execution_count": 5,
   "metadata": {},
   "outputs": [],
   "source": [
    "def check_files(path):\n",
    "    actions = get_actions(path)\n",
    "    dict = {}\n",
    "    for action in actions:\n",
    "        seqs = get_sequences(path, action)\n",
    "        check_seqs = list(range(seqs[0], seqs[-1] + 1))\n",
    "        if seqs == check_seqs:\n",
    "            key = (seqs[0], seqs[-1])\n",
    "            if key in dict: \n",
    "                dict[key].append(action)\n",
    "            else: \n",
    "                dict[key] = [action]\n",
    "        else:\n",
    "            print(f\"Action {action} lost file: {list(set(check_seqs) - set(seqs))}\")\n",
    "    for key, value in dict.items():\n",
    "        print(key)\n",
    "        for v in value:\n",
    "            print(f\"- {v}\")"
   ]
  },
  {
   "cell_type": "code",
   "execution_count": 16,
   "metadata": {},
   "outputs": [],
   "source": [
    "def move_data(new_path, data_path):\n",
    "    check_actions(new_path, data_path)\n",
    "    actions = get_actions(data_path)\n",
    "    for action in actions:\n",
    "        seqs = get_sequences(new_path, action)\n",
    "        increase_num = get_sequences(data_path, action)[-1] + 1\n",
    "        for i, s in enumerate(seqs):\n",
    "            try:\n",
    "                os.rename(os.path.join(new_path, action, str(s)), \n",
    "                          os.path.join(data_path, action, str(i + increase_num)))\n",
    "            except OSError as error:\n",
    "                print(error)"
   ]
  },
  {
   "cell_type": "code",
   "execution_count": 9,
   "metadata": {},
   "outputs": [],
   "source": [
    "NEW_PATH = os.path.join('Data')\n",
    "DATA_PATH = os.path.join('M_Data')"
   ]
  },
  {
   "cell_type": "code",
   "execution_count": 14,
   "metadata": {},
   "outputs": [
    {
     "name": "stdout",
     "output_type": "stream",
     "text": [
      "(0, 39)\n",
      "- id_card\n",
      "- forget\n",
      "(0, 9)\n",
      "- need\n",
      "- dont_have\n",
      "- is\n",
      "- i\n",
      "- okay\n",
      "- passport\n",
      "- debit_card\n",
      "- children\n",
      "- help\n"
     ]
    }
   ],
   "source": [
    "check_files(NEW_PATH)"
   ]
  },
  {
   "cell_type": "code",
   "execution_count": 17,
   "metadata": {},
   "outputs": [
    {
     "name": "stdout",
     "output_type": "stream",
     "text": [
      "(0, 29)\n",
      "- deal\n",
      "- card\n",
      "- need\n",
      "- have\n",
      "- dont_have\n",
      "- foreign_currency_account\n",
      "- bring\n",
      "- is\n",
      "- i\n",
      "- single\n",
      "- okay\n",
      "- passport\n",
      "- below\n",
      "- payroll_transfer\n",
      "- good\n",
      "- driver_license\n",
      "- 14_years_old\n",
      "- health_id_card\n",
      "- my\n",
      "- debit_card\n",
      "- household_registration_transcript\n",
      "- stamp\n",
      "- replace\n",
      "- account_book\n",
      "- online_bank\n",
      "- savings_account\n",
      "- children\n",
      "- only_have\n",
      "- open_account\n",
      "- help\n",
      "(0, 49)\n",
      "- id_card\n",
      "- forget\n",
      "(0, 39)\n",
      "- account\n"
     ]
    }
   ],
   "source": [
    "check_files(DATA_PATH)"
   ]
  },
  {
   "cell_type": "code",
   "execution_count": 20,
   "metadata": {},
   "outputs": [
    {
     "name": "stdout",
     "output_type": "stream",
     "text": [
      "[0, 1, 2, 3, 4, 5, 6, 7, 8, 9, 10, 11, 12, 13, 14, 15, 16, 17, 18, 19, 20, 21, 22, 23, 24, 25, 26, 27, 28, 29]\n",
      "[0, 1, 2, 3, 4, 5, 6, 7, 8, 9, 10, 11, 12, 13, 14, 15, 16, 17, 18, 19, 20, 21, 22, 23, 24, 25, 26, 27, 28, 29]\n",
      "[0, 1, 2, 3, 4, 5, 6, 7, 8, 9, 10, 11, 12, 13, 14, 15, 16, 17, 18, 19, 20, 21, 22, 23, 24, 25, 26, 27, 28, 29]\n",
      "[0, 1, 2, 3, 4, 5, 6, 7, 8, 9, 10, 11, 12, 13, 14, 15, 16, 17, 18, 19, 20, 21, 22, 23, 24, 25, 26, 27, 28, 29]\n",
      "[0, 1, 2, 3, 4, 5, 6, 7, 8, 9, 10, 11, 12, 13, 14, 15, 16, 17, 18, 19, 20, 21, 22, 23, 24, 25, 26, 27, 28, 29]\n",
      "[0, 1, 2, 3, 4, 5, 6, 7, 8, 9, 10, 11, 12, 13, 14, 15, 16, 17, 18, 19, 20, 21, 22, 23, 24, 25, 26, 27, 28, 29]\n",
      "[0, 1, 2, 3, 4, 5, 6, 7, 8, 9, 10, 11, 12, 13, 14, 15, 16, 17, 18, 19, 20, 21, 22, 23, 24, 25, 26, 27, 28, 29]\n",
      "[0, 1, 2, 3, 4, 5, 6, 7, 8, 9, 10, 11, 12, 13, 14, 15, 16, 17, 18, 19, 20, 21, 22, 23, 24, 25, 26, 27, 28, 29]\n",
      "[0, 1, 2, 3, 4, 5, 6, 7, 8, 9, 10, 11, 12, 13, 14, 15, 16, 17, 18, 19, 20, 21, 22, 23, 24, 25, 26, 27, 28, 29]\n",
      "[0, 1, 2, 3, 4, 5, 6, 7, 8, 9, 10, 11, 12, 13, 14, 15, 16, 17, 18, 19, 20, 21, 22, 23, 24, 25, 26, 27, 28, 29]\n",
      "[0, 1, 2, 3, 4, 5, 6, 7, 8, 9, 10, 11, 12, 13, 14, 15, 16, 17, 18, 19, 20, 21, 22, 23, 24, 25, 26, 27, 28, 29, 30, 31, 32, 33, 34, 35, 36, 37, 38, 39, 40, 41, 42, 43, 44, 45, 46, 47, 48, 49]\n",
      "[0, 1, 2, 3, 4, 5, 6, 7, 8, 9, 10, 11, 12, 13, 14, 15, 16, 17, 18, 19, 20, 21, 22, 23, 24, 25, 26, 27, 28, 29]\n",
      "[0, 1, 2, 3, 4, 5, 6, 7, 8, 9, 10, 11, 12, 13, 14, 15, 16, 17, 18, 19, 20, 21, 22, 23, 24, 25, 26, 27, 28, 29]\n",
      "[0, 1, 2, 3, 4, 5, 6, 7, 8, 9, 10, 11, 12, 13, 14, 15, 16, 17, 18, 19, 20, 21, 22, 23, 24, 25, 26, 27, 28, 29]\n",
      "[0, 1, 2, 3, 4, 5, 6, 7, 8, 9, 10, 11, 12, 13, 14, 15, 16, 17, 18, 19, 20, 21, 22, 23, 24, 25, 26, 27, 28, 29]\n",
      "[0, 1, 2, 3, 4, 5, 6, 7, 8, 9, 10, 11, 12, 13, 14, 15, 16, 17, 18, 19, 20, 21, 22, 23, 24, 25, 26, 27, 28, 29]\n",
      "[0, 1, 2, 3, 4, 5, 6, 7, 8, 9, 10, 11, 12, 13, 14, 15, 16, 17, 18, 19, 20, 21, 22, 23, 24, 25, 26, 27, 28, 29]\n",
      "[0, 1, 2, 3, 4, 5, 6, 7, 8, 9, 10, 11, 12, 13, 14, 15, 16, 17, 18, 19, 20, 21, 22, 23, 24, 25, 26, 27, 28, 29]\n",
      "[0, 1, 2, 3, 4, 5, 6, 7, 8, 9, 10, 11, 12, 13, 14, 15, 16, 17, 18, 19, 20, 21, 22, 23, 24, 25, 26, 27, 28, 29, 30, 31, 32, 33, 34, 35, 36, 37, 38, 39]\n"
     ]
    }
   ],
   "source": [
    "# move_data(NEW_PATH, DATA_PATH)\n",
    "# get_actions(DATA_PATH)\n",
    "a = ['i', 'my', 'children', 'have', 'dont_have', \n",
    "                    'only_have', 'is', 'good', 'need', 'deal', \n",
    "                    'forget', 'bring', 'replace', 'help', 'single',\n",
    "                    'below', 'stamp', 'card', 'account']\n",
    "for i in a:\n",
    "    print(get_sequences(DATA_PATH, i))"
   ]
  }
 ],
 "metadata": {
  "kernelspec": {
   "display_name": "Python 3",
   "language": "python",
   "name": "python3"
  },
  "language_info": {
   "codemirror_mode": {
    "name": "ipython",
    "version": 3
   },
   "file_extension": ".py",
   "mimetype": "text/x-python",
   "name": "python",
   "nbconvert_exporter": "python",
   "pygments_lexer": "ipython3",
   "version": "3.8.5"
  }
 },
 "nbformat": 4,
 "nbformat_minor": 4
}
